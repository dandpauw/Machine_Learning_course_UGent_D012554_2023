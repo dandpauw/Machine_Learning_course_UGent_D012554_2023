{
 "cells": [
  {
   "cell_type": "code",
   "execution_count": null,
   "id": "e3fc472a",
   "metadata": {},
   "outputs": [],
   "source": [
    "import pandas as pd"
   ]
  },
  {
   "cell_type": "code",
   "execution_count": null,
   "id": "430172ca",
   "metadata": {},
   "outputs": [],
   "source": [
    "data = pd.read_csv(\"missing_value.csv\")"
   ]
  },
  {
   "cell_type": "code",
   "execution_count": null,
   "id": "7d5b0d10",
   "metadata": {},
   "outputs": [],
   "source": [
    "data"
   ]
  },
  {
   "cell_type": "markdown",
   "id": "6f3bb6d3",
   "metadata": {},
   "source": [
    "### isnull()"
   ]
  },
  {
   "cell_type": "code",
   "execution_count": null,
   "id": "810672f8",
   "metadata": {},
   "outputs": [],
   "source": [
    "data"
   ]
  },
  {
   "cell_type": "code",
   "execution_count": null,
   "id": "f35b39c1",
   "metadata": {},
   "outputs": [],
   "source": [
    "data.isnull()"
   ]
  },
  {
   "cell_type": "code",
   "execution_count": null,
   "id": "4a546067",
   "metadata": {},
   "outputs": [],
   "source": [
    "data.isnull().any()"
   ]
  },
  {
   "cell_type": "code",
   "execution_count": null,
   "id": "73c3cdbc",
   "metadata": {},
   "outputs": [],
   "source": [
    "data.isnull().sum()\n",
    "#data.isnull().sum(axis=1)"
   ]
  },
  {
   "cell_type": "code",
   "execution_count": null,
   "id": "bcfee1b5",
   "metadata": {},
   "outputs": [],
   "source": [
    "missing_val_count_by_column = data.isnull().sum()\n",
    "print(missing_val_count_by_column[missing_val_count_by_column > 0])"
   ]
  },
  {
   "cell_type": "code",
   "execution_count": null,
   "id": "8805e7a6",
   "metadata": {},
   "outputs": [],
   "source": [
    "data.describe()"
   ]
  },
  {
   "cell_type": "markdown",
   "id": "7f2f41f8",
   "metadata": {},
   "source": [
    "### drop()"
   ]
  },
  {
   "cell_type": "code",
   "execution_count": null,
   "id": "8f005d38",
   "metadata": {},
   "outputs": [],
   "source": [
    "data_new = data.drop([\"Id\"], axis=1)"
   ]
  },
  {
   "cell_type": "code",
   "execution_count": null,
   "id": "e6d40f93",
   "metadata": {},
   "outputs": [],
   "source": [
    "data_new"
   ]
  },
  {
   "cell_type": "markdown",
   "id": "c8dc8d69",
   "metadata": {},
   "source": [
    "### dtypes"
   ]
  },
  {
   "cell_type": "code",
   "execution_count": null,
   "id": "7ba30c17",
   "metadata": {},
   "outputs": [],
   "source": [
    "data.dtypes"
   ]
  },
  {
   "cell_type": "code",
   "execution_count": null,
   "id": "f0518b75",
   "metadata": {},
   "outputs": [],
   "source": [
    "data.dtypes.value_counts()"
   ]
  },
  {
   "cell_type": "code",
   "execution_count": null,
   "id": "7b33261a",
   "metadata": {},
   "outputs": [],
   "source": [
    "data_new = data.select_dtypes(exclude=[\"object\"])\n",
    "data_new.dtypes.value_counts()"
   ]
  },
  {
   "cell_type": "code",
   "execution_count": null,
   "id": "6ace5e22",
   "metadata": {},
   "outputs": [],
   "source": [
    "data_new = data.select_dtypes(include=[\"object\"])\n",
    "data_new.dtypes.value_counts()"
   ]
  },
  {
   "cell_type": "markdown",
   "id": "5afc450d",
   "metadata": {},
   "source": [
    "### list comprehension"
   ]
  },
  {
   "cell_type": "code",
   "execution_count": null,
   "id": "1785f9ae",
   "metadata": {},
   "outputs": [],
   "source": [
    "my_list1 = []\n",
    "\n",
    "for i in range(10):\n",
    "    my_list1.append(i)        \n",
    "my_list1"
   ]
  },
  {
   "cell_type": "code",
   "execution_count": null,
   "id": "7b4dc3c8",
   "metadata": {},
   "outputs": [],
   "source": [
    "my_list2 = [i for i in range(10)]\n",
    "my_list2"
   ]
  },
  {
   "cell_type": "code",
   "execution_count": null,
   "id": "c89263c8",
   "metadata": {},
   "outputs": [],
   "source": [
    "my_list3 = [i for i in range(10) if i%2 == 0]\n",
    "my_list3"
   ]
  },
  {
   "cell_type": "code",
   "execution_count": null,
   "id": "5b502dfc",
   "metadata": {},
   "outputs": [],
   "source": [
    "my_list4 = [1 if i > 5 else 0 for i in range(10)]\n",
    "my_list4"
   ]
  },
  {
   "cell_type": "code",
   "execution_count": null,
   "id": "029db3fd",
   "metadata": {},
   "outputs": [],
   "source": [
    "# Get list of categorical variables\n",
    "s = (data.dtypes == 'object')\n",
    "s"
   ]
  },
  {
   "cell_type": "code",
   "execution_count": null,
   "id": "c509f5bf",
   "metadata": {},
   "outputs": [],
   "source": [
    "s[s]"
   ]
  },
  {
   "cell_type": "code",
   "execution_count": null,
   "id": "b4ea33ab",
   "metadata": {},
   "outputs": [],
   "source": [
    "object_cols = list(s[s].index)\n",
    "\n",
    "print(\"Categorical variables:\")\n",
    "print(object_cols)"
   ]
  },
  {
   "cell_type": "markdown",
   "id": "a7269232",
   "metadata": {},
   "source": [
    "### concat()"
   ]
  },
  {
   "cell_type": "code",
   "execution_count": null,
   "id": "a479b46a",
   "metadata": {},
   "outputs": [],
   "source": [
    "data1 = data[[\"LandContour\",\"BsmtCond\"]]\n",
    "data1"
   ]
  },
  {
   "cell_type": "code",
   "execution_count": null,
   "id": "42deccda",
   "metadata": {},
   "outputs": [],
   "source": [
    "data2 = data[[\"BsmtQual\",\"BsmtExposure\"]]\n",
    "data2"
   ]
  },
  {
   "cell_type": "code",
   "execution_count": null,
   "id": "04019def",
   "metadata": {},
   "outputs": [],
   "source": [
    "data_concat = pd.concat([data1,data2],axis=\"columns\")\n",
    "data_concat"
   ]
  },
  {
   "cell_type": "code",
   "execution_count": null,
   "id": "348d137c",
   "metadata": {},
   "outputs": [],
   "source": []
  }
 ],
 "metadata": {
  "kernelspec": {
   "display_name": "Python 3 (ipykernel)",
   "language": "python",
   "name": "python3"
  },
  "language_info": {
   "codemirror_mode": {
    "name": "ipython",
    "version": 3
   },
   "file_extension": ".py",
   "mimetype": "text/x-python",
   "name": "python",
   "nbconvert_exporter": "python",
   "pygments_lexer": "ipython3",
   "version": "3.10.9"
  }
 },
 "nbformat": 4,
 "nbformat_minor": 5
}
